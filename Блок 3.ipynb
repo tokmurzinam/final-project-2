{
 "cells": [
  {
   "cell_type": "code",
   "execution_count": 91,
   "id": "d15ce546",
   "metadata": {},
   "outputs": [],
   "source": [
    "import pandas as pd\n",
    "import numpy as np\n",
    "import matplotlib.pyplot as plt\n",
    "import seaborn as sns"
   ]
  },
  {
   "cell_type": "code",
   "execution_count": 93,
   "id": "6638ea08",
   "metadata": {},
   "outputs": [
    {
     "name": "stdout",
     "output_type": "stream",
     "text": [
      "         Дата  Склад Контрагент Номенклатура  Количество\n",
      "0  2018-01-04      1  address_0    product_0           4\n",
      "1  2018-01-04      1  address_0    product_1           4\n",
      "2  2018-01-04      1  address_0    product_2           5\n",
      "3  2018-01-04      1  address_0    product_3          10\n",
      "4  2018-01-04      1  address_0    product_4           2\n"
     ]
    }
   ],
   "source": [
    "# Прочитайте данные (переменную назовите 'df')\n",
    "df = pd.read_csv('data.csv')\n",
    "\n",
    "# Вывести несколько первых строк таблицы данных\n",
    "print(df.head())"
   ]
  },
  {
   "cell_type": "code",
   "execution_count": 95,
   "id": "fe010fc4",
   "metadata": {},
   "outputs": [
    {
     "name": "stdout",
     "output_type": "stream",
     "text": [
      "<class 'pandas.core.frame.DataFrame'>\n",
      "RangeIndex: 301355 entries, 0 to 301354\n",
      "Data columns (total 5 columns):\n",
      " #   Column        Non-Null Count   Dtype \n",
      "---  ------        --------------   ----- \n",
      " 0   Дата          301355 non-null  object\n",
      " 1   Склад         301355 non-null  int64 \n",
      " 2   Контрагент    301355 non-null  object\n",
      " 3   Номенклатура  301355 non-null  object\n",
      " 4   Количество    301355 non-null  int64 \n",
      "dtypes: int64(2), object(3)\n",
      "memory usage: 11.5+ MB\n"
     ]
    }
   ],
   "source": [
    "df.info()"
   ]
  },
  {
   "cell_type": "markdown",
   "id": "a8e1b306",
   "metadata": {},
   "source": [
    "Проверяем формат столбцов"
   ]
  },
  {
   "cell_type": "code",
   "execution_count": 98,
   "id": "0db7a439",
   "metadata": {},
   "outputs": [
    {
     "data": {
      "text/plain": [
       "Дата            object\n",
       "Склад            int64\n",
       "Контрагент      object\n",
       "Номенклатура    object\n",
       "Количество       int64\n",
       "dtype: object"
      ]
     },
     "execution_count": 98,
     "metadata": {},
     "output_type": "execute_result"
    }
   ],
   "source": [
    "df.dtypes"
   ]
  },
  {
   "cell_type": "markdown",
   "id": "ab427988",
   "metadata": {},
   "source": [
    "Сразу переведем столбец \"Дата\" в правильный формат"
   ]
  },
  {
   "cell_type": "code",
   "execution_count": 101,
   "id": "317e1a0b",
   "metadata": {},
   "outputs": [],
   "source": [
    "df = pd.read_csv('data.csv', parse_dates=['Дата'])"
   ]
  },
  {
   "cell_type": "markdown",
   "id": "c117ede9",
   "metadata": {},
   "source": [
    "Сгруппируйте данные по дате, посчитайте количество продаж"
   ]
  },
  {
   "cell_type": "code",
   "execution_count": 104,
   "id": "66085e84",
   "metadata": {},
   "outputs": [],
   "source": [
    "grouped_df = df.groupby('Дата').size().reset_index(name='Количество продаж')"
   ]
  },
  {
   "cell_type": "code",
   "execution_count": 106,
   "id": "c575be01-f126-4b55-8dee-14a753d6ec00",
   "metadata": {},
   "outputs": [
    {
     "data": {
      "text/html": [
       "<div>\n",
       "<style scoped>\n",
       "    .dataframe tbody tr th:only-of-type {\n",
       "        vertical-align: middle;\n",
       "    }\n",
       "\n",
       "    .dataframe tbody tr th {\n",
       "        vertical-align: top;\n",
       "    }\n",
       "\n",
       "    .dataframe thead th {\n",
       "        text-align: right;\n",
       "    }\n",
       "</style>\n",
       "<table border=\"1\" class=\"dataframe\">\n",
       "  <thead>\n",
       "    <tr style=\"text-align: right;\">\n",
       "      <th></th>\n",
       "      <th>Дата</th>\n",
       "      <th>Количество продаж</th>\n",
       "    </tr>\n",
       "  </thead>\n",
       "  <tbody>\n",
       "    <tr>\n",
       "      <th>0</th>\n",
       "      <td>2018-01-04</td>\n",
       "      <td>1840</td>\n",
       "    </tr>\n",
       "    <tr>\n",
       "      <th>1</th>\n",
       "      <td>2018-01-05</td>\n",
       "      <td>1301</td>\n",
       "    </tr>\n",
       "    <tr>\n",
       "      <th>2</th>\n",
       "      <td>2018-01-06</td>\n",
       "      <td>1306</td>\n",
       "    </tr>\n",
       "    <tr>\n",
       "      <th>3</th>\n",
       "      <td>2018-01-07</td>\n",
       "      <td>1322</td>\n",
       "    </tr>\n",
       "    <tr>\n",
       "      <th>4</th>\n",
       "      <td>2018-01-09</td>\n",
       "      <td>1719</td>\n",
       "    </tr>\n",
       "    <tr>\n",
       "      <th>...</th>\n",
       "      <td>...</td>\n",
       "      <td>...</td>\n",
       "    </tr>\n",
       "    <tr>\n",
       "      <th>200</th>\n",
       "      <td>2018-08-26</td>\n",
       "      <td>1462</td>\n",
       "    </tr>\n",
       "    <tr>\n",
       "      <th>201</th>\n",
       "      <td>2018-08-28</td>\n",
       "      <td>1731</td>\n",
       "    </tr>\n",
       "    <tr>\n",
       "      <th>202</th>\n",
       "      <td>2018-08-29</td>\n",
       "      <td>1497</td>\n",
       "    </tr>\n",
       "    <tr>\n",
       "      <th>203</th>\n",
       "      <td>2018-08-30</td>\n",
       "      <td>1445</td>\n",
       "    </tr>\n",
       "    <tr>\n",
       "      <th>204</th>\n",
       "      <td>2018-08-31</td>\n",
       "      <td>1366</td>\n",
       "    </tr>\n",
       "  </tbody>\n",
       "</table>\n",
       "<p>205 rows × 2 columns</p>\n",
       "</div>"
      ],
      "text/plain": [
       "          Дата  Количество продаж\n",
       "0   2018-01-04               1840\n",
       "1   2018-01-05               1301\n",
       "2   2018-01-06               1306\n",
       "3   2018-01-07               1322\n",
       "4   2018-01-09               1719\n",
       "..         ...                ...\n",
       "200 2018-08-26               1462\n",
       "201 2018-08-28               1731\n",
       "202 2018-08-29               1497\n",
       "203 2018-08-30               1445\n",
       "204 2018-08-31               1366\n",
       "\n",
       "[205 rows x 2 columns]"
      ]
     },
     "execution_count": 106,
     "metadata": {},
     "output_type": "execute_result"
    }
   ],
   "source": [
    "grouped_df"
   ]
  },
  {
   "cell_type": "markdown",
   "id": "fbfd90ac",
   "metadata": {},
   "source": [
    "Вывести несколько первых строк сгруппированных данных"
   ]
  },
  {
   "cell_type": "code",
   "execution_count": 109,
   "id": "79e12654",
   "metadata": {},
   "outputs": [
    {
     "data": {
      "text/html": [
       "<div>\n",
       "<style scoped>\n",
       "    .dataframe tbody tr th:only-of-type {\n",
       "        vertical-align: middle;\n",
       "    }\n",
       "\n",
       "    .dataframe tbody tr th {\n",
       "        vertical-align: top;\n",
       "    }\n",
       "\n",
       "    .dataframe thead th {\n",
       "        text-align: right;\n",
       "    }\n",
       "</style>\n",
       "<table border=\"1\" class=\"dataframe\">\n",
       "  <thead>\n",
       "    <tr style=\"text-align: right;\">\n",
       "      <th></th>\n",
       "      <th>Дата</th>\n",
       "      <th>Количество продаж</th>\n",
       "    </tr>\n",
       "  </thead>\n",
       "  <tbody>\n",
       "    <tr>\n",
       "      <th>0</th>\n",
       "      <td>2018-01-04</td>\n",
       "      <td>1840</td>\n",
       "    </tr>\n",
       "    <tr>\n",
       "      <th>1</th>\n",
       "      <td>2018-01-05</td>\n",
       "      <td>1301</td>\n",
       "    </tr>\n",
       "    <tr>\n",
       "      <th>2</th>\n",
       "      <td>2018-01-06</td>\n",
       "      <td>1306</td>\n",
       "    </tr>\n",
       "    <tr>\n",
       "      <th>3</th>\n",
       "      <td>2018-01-07</td>\n",
       "      <td>1322</td>\n",
       "    </tr>\n",
       "    <tr>\n",
       "      <th>4</th>\n",
       "      <td>2018-01-09</td>\n",
       "      <td>1719</td>\n",
       "    </tr>\n",
       "  </tbody>\n",
       "</table>\n",
       "</div>"
      ],
      "text/plain": [
       "        Дата  Количество продаж\n",
       "0 2018-01-04               1840\n",
       "1 2018-01-05               1301\n",
       "2 2018-01-06               1306\n",
       "3 2018-01-07               1322\n",
       "4 2018-01-09               1719"
      ]
     },
     "execution_count": 109,
     "metadata": {},
     "output_type": "execute_result"
    }
   ],
   "source": [
    "grouped_df.head()"
   ]
  },
  {
   "cell_type": "markdown",
   "id": "9ce32d36",
   "metadata": {},
   "source": [
    "Нарисуйте график продаж у `grouped_df`"
   ]
  },
  {
   "cell_type": "code",
   "execution_count": 112,
   "id": "9a46b2f5",
   "metadata": {},
   "outputs": [
    {
     "data": {
      "image/png": "[encoded data removed]",
      "text/plain": [
       "<Figure size 640x480 with 1 Axes>"
      ]
     },
     "metadata": {},
     "output_type": "display_data"
    }
   ],
   "source": [
    "plt.plot(grouped_df['Дата'], grouped_df['Количество продаж'], marker='o')\n",
    "plt.title('Динамика продаж по датам')\n",
    "plt.xlabel('Дата')\n",
    "plt.ylabel('Количество продаж')\n",
    "plt.grid(True)\n",
    "plt.xticks(rotation=45)\n",
    "plt.tight_layout()\n",
    "plt.show()"
   ]
  },
  {
   "cell_type": "markdown",
   "id": "311b54f3",
   "metadata": {},
   "source": [
    "Опишите что вы видите на графике. Ваша задача - максимально описать график"
   ]
  },
  {
   "cell_type": "code",
   "execution_count": null,
   "id": "c35df4fa",
   "metadata": {},
   "outputs": [],
   "source": [
    "На графике представлена линия, показывающая, как менялось количество продаж по датам. По оси X расположены даты, по оси Y — общее количество проданных единиц товаров (сумма по столбцу количество для каждой даты).\n",
    "Рост/падение продаж:\n",
    "Когда линия идёт вверх — продажи растут.\n",
    "Если вниз — возможно, спад спроса или логистические проблемы."
   ]
  },
  {
   "cell_type": "markdown",
   "id": "85412b89",
   "metadata": {},
   "source": [
    "Найдите строку, у которой максимальный выброс по количеству продаж (нужно найти выброс у `df`)"
   ]
  },
  {
   "cell_type": "code",
   "execution_count": 114,
   "id": "2baebf0c",
   "metadata": {},
   "outputs": [
    {
     "name": "stdout",
     "output_type": "stream",
     "text": [
      "Дата            2018-06-28 00:00:00\n",
      "Склад                             1\n",
      "Контрагент              address_208\n",
      "Номенклатура              product_0\n",
      "Количество                      200\n",
      "Name: 218822, dtype: object\n"
     ]
    }
   ],
   "source": [
    "Q1 = df['Количество'].quantile(0.25)\n",
    "Q3 = df['Количество'].quantile(0.75)\n",
    "IQR = Q3 - Q1\n",
    "\n",
    "# Границы выбросов\n",
    "lower_bound = Q1 - 1.5 * IQR\n",
    "upper_bound = Q3 + 1.5 * IQR\n",
    "\n",
    "# Найти выбросы\n",
    "outliers = df[df['Количество'] > upper_bound]\n",
    "\n",
    "# Найти строку с максимальным выбросом\n",
    "max_outlier = outliers.loc[outliers['Количество'].idxmax()]\n",
    "\n",
    "print(max_outlier)"
   ]
  },
  {
   "cell_type": "markdown",
   "id": "30aa9654",
   "metadata": {},
   "source": [
    "Найдите топовый товар по продажам по средам за июнь, июль, август у 3 склада"
   ]
  },
  {
   "cell_type": "code",
   "execution_count": 116,
   "id": "c3d75d16",
   "metadata": {},
   "outputs": [
    {
     "name": "stdout",
     "output_type": "stream",
     "text": [
      "Топовый товар по продажам по средам в июне–августе на складе 3:\n",
      "Номенклатура    product_1\n",
      "Количество           2267\n",
      "Name: 1, dtype: object\n"
     ]
    }
   ],
   "source": [
    "df['Дата'] = pd.to_datetime(df['Дата'])\n",
    "\n",
    "# Фильтруем по условиям\n",
    "filtered_df = df[\n",
    "    (df['Дата'].dt.dayofweek == 2) &                      # Среда (0=Пн, ..., 6=Вс)\n",
    "    (df['Дата'].dt.month.isin([6, 7, 8])) &               # Июнь, июль, август\n",
    "    (df['Склад'] == 3)                                    # Только склад №3\n",
    "]\n",
    "\n",
    "# Группируем по товару и считаем общую сумму продаж\n",
    "top_goods = filtered_df.groupby('Номенклатура')['Количество'].sum().reset_index()\n",
    "\n",
    "# Находим товар с наибольшими продажами\n",
    "top_good = top_goods.loc[top_goods['Количество'].idxmax()]\n",
    "\n",
    "print(\"Топовый товар по продажам по средам в июне–августе на складе 3:\")\n",
    "print(top_good)"
   ]
  },
  {
   "cell_type": "markdown",
   "id": "66211d92",
   "metadata": {},
   "source": [
    "Скачайте данные по погоде с https://rp5.ru/Архив_погоды_в_Астане (скачайте исходные данные, и далее преобразуйте так, чтобы мы имели Дату и Среднюю температуру за день), объедините таблицу температуры с `grouped_df`, и нарисуйте график `y=['Количество продаж', 'T']`, где Т это температура. А также отдельно график температуры."
   ]
  },
  {
   "cell_type": "code",
   "execution_count": 118,
   "id": "49b06735-5295-4f8e-977f-21d9cca62a79",
   "metadata": {},
   "outputs": [],
   "source": [
    "weather_df = pd.read_csv('weather.csv')"
   ]
  },
  {
   "cell_type": "code",
   "execution_count": 120,
   "id": "b37b5816-85a2-4662-b269-17d748c6c05b",
   "metadata": {},
   "outputs": [
    {
     "data": {
      "text/html": [
       "<div>\n",
       "<style scoped>\n",
       "    .dataframe tbody tr th:only-of-type {\n",
       "        vertical-align: middle;\n",
       "    }\n",
       "\n",
       "    .dataframe tbody tr th {\n",
       "        vertical-align: top;\n",
       "    }\n",
       "\n",
       "    .dataframe thead th {\n",
       "        text-align: right;\n",
       "    }\n",
       "</style>\n",
       "<table border=\"1\" class=\"dataframe\">\n",
       "  <thead>\n",
       "    <tr style=\"text-align: right;\">\n",
       "      <th></th>\n",
       "      <th>Дата</th>\n",
       "      <th>Tемпература</th>\n",
       "    </tr>\n",
       "  </thead>\n",
       "  <tbody>\n",
       "    <tr>\n",
       "      <th>0</th>\n",
       "      <td>21.05.2025</td>\n",
       "      <td>17.0</td>\n",
       "    </tr>\n",
       "    <tr>\n",
       "      <th>1</th>\n",
       "      <td>21.05.2025</td>\n",
       "      <td>21.3</td>\n",
       "    </tr>\n",
       "    <tr>\n",
       "      <th>2</th>\n",
       "      <td>21.05.2025</td>\n",
       "      <td>24.3</td>\n",
       "    </tr>\n",
       "    <tr>\n",
       "      <th>3</th>\n",
       "      <td>21.05.2025</td>\n",
       "      <td>24.9</td>\n",
       "    </tr>\n",
       "    <tr>\n",
       "      <th>4</th>\n",
       "      <td>21.05.2025</td>\n",
       "      <td>22.7</td>\n",
       "    </tr>\n",
       "  </tbody>\n",
       "</table>\n",
       "</div>"
      ],
      "text/plain": [
       "         Дата  Tемпература\n",
       "0  21.05.2025         17.0\n",
       "1  21.05.2025         21.3\n",
       "2  21.05.2025         24.3\n",
       "3  21.05.2025         24.9\n",
       "4  21.05.2025         22.7"
      ]
     },
     "execution_count": 120,
     "metadata": {},
     "output_type": "execute_result"
    }
   ],
   "source": [
    "weather_df.head()"
   ]
  },
  {
   "cell_type": "code",
   "execution_count": 122,
   "id": "6a4122c4-9691-4fcc-b8b0-b6a64a0fce79",
   "metadata": {},
   "outputs": [],
   "source": [
    "weather_df = weather_df[['Дата', 'Tемпература']]\n",
    "weather_df['Дата'] = pd.to_datetime(weather_df['Дата'], dayfirst=True)"
   ]
  },
  {
   "cell_type": "code",
   "execution_count": 124,
   "id": "12a49de7-b76a-4272-9779-26fb36f7ca57",
   "metadata": {},
   "outputs": [],
   "source": [
    "merged_df = pd.merge(grouped_df, weather_df, on='Дата', how='inner')"
   ]
  },
  {
   "cell_type": "code",
   "execution_count": 126,
   "id": "035b7827-d48a-4d85-a042-70a6055cf92a",
   "metadata": {},
   "outputs": [
    {
     "data": {
      "image/png": "[encoded data removed]",
      "text/plain": [
       "<Figure size 640x480 with 1 Axes>"
      ]
     },
     "metadata": {},
     "output_type": "display_data"
    }
   ],
   "source": [
    "ax1.set_xlabel('Дата')\n",
    "ax1.set_ylabel('Количество продаж', color='tab:blue')\n",
    "ax1.plot(merged_df['Дата'], merged_df['Количество продаж'], color='tab:blue', label='Количество продаж')\n",
    "ax1.tick_params(axis='y', labelcolor='tab:blue')\n",
    "\n",
    "ax2 = ax1.twinx()  # второй y-axis\n",
    "ax2.set_ylabel('Tемпература', color='tab:red')\n",
    "ax2.plot(merged_df['Дата'], merged_df['Tемпература'], color='tab:red', label='Tемпература')\n",
    "ax2.tick_params(axis='y', labelcolor='tab:red')\n",
    "\n",
    "fig.tight_layout()\n",
    "plt.title('Количество продаж и Tемпература')\n",
    "plt.show()"
   ]
  },
  {
   "cell_type": "code",
   "execution_count": 128,
   "id": "d3570521-f317-4cef-9675-6a7f8e970511",
   "metadata": {},
   "outputs": [
    {
     "data": {
      "image/png": "[encoded data removed]",
      "text/plain": [
       "<Figure size 640x480 with 1 Axes>"
      ]
     },
     "metadata": {},
     "output_type": "display_data"
    }
   ],
   "source": [
    "plt.plot(merged_df['Дата'], merged_df['Tемпература'], color='tab:red')\n",
    "plt.xlabel('Дата')\n",
    "plt.ylabel('Tемпература')\n",
    "plt.title('Температура по дням')\n",
    "plt.grid(True)\n",
    "plt.show()"
   ]
  },
  {
   "cell_type": "code",
   "execution_count": 150,
   "id": "b3d0c287-2e1c-43f2-8da5-300ccdb84822",
   "metadata": {},
   "outputs": [
    {
     "name": "stdout",
     "output_type": "stream",
     "text": [
      "        Дата  Tемпература\n",
      "0 2025-05-21         17.0\n",
      "1 2025-05-21         21.3\n",
      "2 2025-05-21         24.3\n",
      "3 2025-05-21         24.9\n",
      "4 2025-05-21         22.7\n",
      "<class 'pandas.core.frame.DataFrame'>\n",
      "RangeIndex: 56 entries, 0 to 55\n",
      "Data columns (total 2 columns):\n",
      " #   Column       Non-Null Count  Dtype         \n",
      "---  ------       --------------  -----         \n",
      " 0   Дата         56 non-null     datetime64[ns]\n",
      " 1   Tемпература  56 non-null     float64       \n",
      "dtypes: datetime64[ns](1), float64(1)\n",
      "memory usage: 1.0 KB\n",
      "None\n"
     ]
    }
   ],
   "source": [
    "print(weather_df.head())\n",
    "print(weather_df.info())"
   ]
  },
  {
   "cell_type": "code",
   "execution_count": 152,
   "id": "e2c1a6b5-4f06-445b-8c2d-737dd9b5e3be",
   "metadata": {},
   "outputs": [
    {
     "name": "stdout",
     "output_type": "stream",
     "text": [
      "        Дата  Количество продаж\n",
      "0 2018-01-04               1840\n",
      "1 2018-01-05               1301\n",
      "2 2018-01-06               1306\n",
      "3 2018-01-07               1322\n",
      "4 2018-01-09               1719\n",
      "<class 'pandas.core.frame.DataFrame'>\n",
      "RangeIndex: 205 entries, 0 to 204\n",
      "Data columns (total 2 columns):\n",
      " #   Column             Non-Null Count  Dtype         \n",
      "---  ------             --------------  -----         \n",
      " 0   Дата               205 non-null    datetime64[ns]\n",
      " 1   Количество продаж  205 non-null    int64         \n",
      "dtypes: datetime64[ns](1), int64(1)\n",
      "memory usage: 3.3 KB\n",
      "None\n"
     ]
    }
   ],
   "source": [
    "print(grouped_df.head())\n",
    "print(grouped_df.info())"
   ]
  },
  {
   "cell_type": "code",
   "execution_count": 154,
   "id": "e668ac89-b87d-485a-8ec3-4db7a1e7359c",
   "metadata": {},
   "outputs": [],
   "source": [
    "weather_df['Дата'] = pd.to_datetime(weather_df['Дата'], dayfirst=True)\n",
    "grouped_df['Дата'] = pd.to_datetime(grouped_df['Дата'], dayfirst=True)"
   ]
  },
  {
   "cell_type": "code",
   "execution_count": 156,
   "id": "dfcd757b-cdb5-44e4-841b-97d4be0c698a",
   "metadata": {},
   "outputs": [
    {
     "name": "stdout",
     "output_type": "stream",
     "text": [
      "Первые 5 дат в grouped_df: 0   2018-01-04\n",
      "1   2018-01-05\n",
      "2   2018-01-06\n",
      "3   2018-01-07\n",
      "4   2018-01-09\n",
      "Name: Дата, dtype: datetime64[ns]\n",
      "Первые 5 дат в weather_df: 0   2025-05-21\n",
      "1   2025-05-21\n",
      "2   2025-05-21\n",
      "3   2025-05-21\n",
      "4   2025-05-21\n",
      "Name: Дата, dtype: datetime64[ns]\n",
      "Количество общих дат: 0\n"
     ]
    }
   ],
   "source": [
    "print(\"Первые 5 дат в grouped_df:\", grouped_df['Дата'].head())\n",
    "print(\"Первые 5 дат в weather_df:\", weather_df['Дата'].head())\n",
    "\n",
    "common_dates = set(grouped_df['Дата']).intersection(set(weather_df['Дата']))\n",
    "print(f\"Количество общих дат: {len(common_dates)}\")"
   ]
  },
  {
   "cell_type": "code",
   "execution_count": 158,
   "id": "4d1cdb0e-d6d0-40d7-b3f9-df6726b3a0b1",
   "metadata": {},
   "outputs": [
    {
     "name": "stdout",
     "output_type": "stream",
     "text": [
      "        Дата  Количество продаж  Tемпература\n",
      "0 2018-01-04             1840.0          NaN\n",
      "1 2018-01-05             1301.0          NaN\n",
      "2 2018-01-06             1306.0          NaN\n",
      "3 2018-01-07             1322.0          NaN\n",
      "4 2018-01-09             1719.0          NaN\n",
      "5 2018-01-10             1487.0          NaN\n",
      "6 2018-01-11             1471.0          NaN\n",
      "7 2018-01-12             1492.0          NaN\n",
      "8 2018-01-13             1475.0          NaN\n",
      "9 2018-01-14             1477.0          NaN\n"
     ]
    }
   ],
   "source": [
    "merged_df = pd.merge(grouped_df, weather_df, on='Дата', how='outer')\n",
    "print(merged_df.head(10))"
   ]
  },
  {
   "cell_type": "code",
   "execution_count": 160,
   "id": "2a019ea1-d5b9-4ff2-be81-1ac067730a62",
   "metadata": {},
   "outputs": [],
   "source": [
    "weather_df['Дата'] = weather_df['Дата'].dt.normalize()\n",
    "grouped_df['Дата'] = grouped_df['Дата'].dt.normalize()"
   ]
  },
  {
   "cell_type": "code",
   "execution_count": 162,
   "id": "2b45043a-4e02-4790-87a2-9c07091f7353",
   "metadata": {},
   "outputs": [
    {
     "name": "stdout",
     "output_type": "stream",
     "text": [
      "       Количество продаж  Tемпература\n",
      "count          205.00000    56.000000\n",
      "mean          1470.02439    20.262500\n",
      "std            102.28600     6.743362\n",
      "min           1164.00000     7.500000\n",
      "25%           1411.00000    15.175000\n",
      "50%           1448.00000    20.150000\n",
      "75%           1497.00000    24.600000\n",
      "max           1840.00000    34.300000\n"
     ]
    }
   ],
   "source": [
    "print(merged_df[['Количество продаж', 'Tемпература']].describe())"
   ]
  }
 ],
 "metadata": {
  "kernelspec": {
   "display_name": "Python [conda env:base] *",
   "language": "python",
   "name": "conda-base-py"
  },
  "language_info": {
   "codemirror_mode": {
    "name": "ipython",
    "version": 3
   },
   "file_extension": ".py",
   "mimetype": "text/x-python",
   "name": "python",
   "nbconvert_exporter": "python",
   "pygments_lexer": "ipython3",
   "version": "3.12.7"
  }
 },
 "nbformat": 4,
 "nbformat_minor": 5
}
